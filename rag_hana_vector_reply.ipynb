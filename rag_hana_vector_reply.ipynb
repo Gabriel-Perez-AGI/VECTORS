{
 "cells": [
  {
   "cell_type": "code",
   "execution_count": 1,
   "id": "42dfb1be",
   "metadata": {
    "colab": {
     "base_uri": "https://localhost:8080/"
    },
    "id": "42dfb1be",
    "outputId": "f27505dd-a5d3-4feb-bac1-a846125dbf80"
   },
   "outputs": [
    {
     "name": "stdout",
     "output_type": "stream",
     "text": [
      "Requirement already satisfied: generative-ai-hub-sdk in c:\\users\\gper\\appdata\\local\\packages\\pythonsoftwarefoundation.python.3.11_qbz5n2kfra8p0\\localcache\\local-packages\\python311\\site-packages (4.4.3)\n",
      "Requirement already satisfied: panda in c:\\users\\gper\\appdata\\local\\packages\\pythonsoftwarefoundation.python.3.11_qbz5n2kfra8p0\\localcache\\local-packages\\python311\\site-packages (0.3.1)\n",
      "Requirement already satisfied: hana-ml in c:\\users\\gper\\appdata\\local\\packages\\pythonsoftwarefoundation.python.3.11_qbz5n2kfra8p0\\localcache\\local-packages\\python311\\site-packages (2.23.25021400)\n",
      "Requirement already satisfied: click>=8.1.7 in c:\\users\\gper\\appdata\\local\\packages\\pythonsoftwarefoundation.python.3.11_qbz5n2kfra8p0\\localcache\\local-packages\\python311\\site-packages (from generative-ai-hub-sdk) (8.1.8)\n",
      "Requirement already satisfied: dacite>=1.8.1 in c:\\users\\gper\\appdata\\local\\packages\\pythonsoftwarefoundation.python.3.11_qbz5n2kfra8p0\\localcache\\local-packages\\python311\\site-packages (from generative-ai-hub-sdk) (1.9.2)\n",
      "Requirement already satisfied: httpx>=0.27.0 in c:\\users\\gper\\appdata\\local\\packages\\pythonsoftwarefoundation.python.3.11_qbz5n2kfra8p0\\localcache\\local-packages\\python311\\site-packages (from generative-ai-hub-sdk) (0.28.1)\n",
      "Requirement already satisfied: ai-core-sdk>=2.5.7 in c:\\users\\gper\\appdata\\local\\packages\\pythonsoftwarefoundation.python.3.11_qbz5n2kfra8p0\\localcache\\local-packages\\python311\\site-packages (from generative-ai-hub-sdk) (2.5.7)\n",
      "Requirement already satisfied: overloading==0.5.0 in c:\\users\\gper\\appdata\\local\\packages\\pythonsoftwarefoundation.python.3.11_qbz5n2kfra8p0\\localcache\\local-packages\\python311\\site-packages (from generative-ai-hub-sdk) (0.5.0)\n",
      "Requirement already satisfied: pydantic==2.9.2 in c:\\users\\gper\\appdata\\local\\packages\\pythonsoftwarefoundation.python.3.11_qbz5n2kfra8p0\\localcache\\local-packages\\python311\\site-packages (from generative-ai-hub-sdk) (2.9.2)\n",
      "Requirement already satisfied: openai>=1.56.0 in c:\\users\\gper\\appdata\\local\\packages\\pythonsoftwarefoundation.python.3.11_qbz5n2kfra8p0\\localcache\\local-packages\\python311\\site-packages (from generative-ai-hub-sdk) (1.65.3)\n",
      "Requirement already satisfied: packaging>=23.2 in c:\\users\\gper\\appdata\\local\\packages\\pythonsoftwarefoundation.python.3.11_qbz5n2kfra8p0\\localcache\\local-packages\\python311\\site-packages (from generative-ai-hub-sdk) (24.2)\n",
      "Requirement already satisfied: annotated-types>=0.6.0 in c:\\users\\gper\\appdata\\local\\packages\\pythonsoftwarefoundation.python.3.11_qbz5n2kfra8p0\\localcache\\local-packages\\python311\\site-packages (from pydantic==2.9.2->generative-ai-hub-sdk) (0.7.0)\n",
      "Requirement already satisfied: pydantic-core==2.23.4 in c:\\users\\gper\\appdata\\local\\packages\\pythonsoftwarefoundation.python.3.11_qbz5n2kfra8p0\\localcache\\local-packages\\python311\\site-packages (from pydantic==2.9.2->generative-ai-hub-sdk) (2.23.4)\n",
      "Requirement already satisfied: typing-extensions>=4.6.1 in c:\\users\\gper\\appdata\\local\\packages\\pythonsoftwarefoundation.python.3.11_qbz5n2kfra8p0\\localcache\\local-packages\\python311\\site-packages (from pydantic==2.9.2->generative-ai-hub-sdk) (4.12.2)\n",
      "Requirement already satisfied: setuptools in c:\\program files\\windowsapps\\pythonsoftwarefoundation.python.3.11_3.11.2544.0_x64__qbz5n2kfra8p0\\lib\\site-packages (from panda) (65.5.0)\n",
      "Requirement already satisfied: requests in c:\\users\\gper\\appdata\\local\\packages\\pythonsoftwarefoundation.python.3.11_qbz5n2kfra8p0\\localcache\\local-packages\\python311\\site-packages (from panda) (2.32.3)\n",
      "Requirement already satisfied: hdbcli>=2.18.22 in c:\\users\\gper\\appdata\\local\\packages\\pythonsoftwarefoundation.python.3.11_qbz5n2kfra8p0\\localcache\\local-packages\\python311\\site-packages (from hana-ml) (2.23.27)\n",
      "Requirement already satisfied: pydotplus in c:\\users\\gper\\appdata\\local\\packages\\pythonsoftwarefoundation.python.3.11_qbz5n2kfra8p0\\localcache\\local-packages\\python311\\site-packages (from hana-ml) (2.0.2)\n",
      "Requirement already satisfied: Deprecated in c:\\users\\gper\\appdata\\local\\packages\\pythonsoftwarefoundation.python.3.11_qbz5n2kfra8p0\\localcache\\local-packages\\python311\\site-packages (from hana-ml) (1.2.18)\n",
      "Requirement already satisfied: tqdm>=4.43.0 in c:\\users\\gper\\appdata\\local\\packages\\pythonsoftwarefoundation.python.3.11_qbz5n2kfra8p0\\localcache\\local-packages\\python311\\site-packages (from hana-ml) (4.67.1)\n",
      "Requirement already satisfied: schedule in c:\\users\\gper\\appdata\\local\\packages\\pythonsoftwarefoundation.python.3.11_qbz5n2kfra8p0\\localcache\\local-packages\\python311\\site-packages (from hana-ml) (1.2.2)\n",
      "Requirement already satisfied: prettytable in c:\\users\\gper\\appdata\\local\\packages\\pythonsoftwarefoundation.python.3.11_qbz5n2kfra8p0\\localcache\\local-packages\\python311\\site-packages (from hana-ml) (3.15.1)\n",
      "Requirement already satisfied: shapely>=1.8.1 in c:\\users\\gper\\appdata\\local\\packages\\pythonsoftwarefoundation.python.3.11_qbz5n2kfra8p0\\localcache\\local-packages\\python311\\site-packages (from hana-ml) (2.0.7)\n",
      "Requirement already satisfied: plotly>=4.14.3 in c:\\users\\gper\\appdata\\local\\packages\\pythonsoftwarefoundation.python.3.11_qbz5n2kfra8p0\\localcache\\local-packages\\python311\\site-packages (from hana-ml) (6.0.0)\n",
      "Requirement already satisfied: numpy>=1.16.4 in c:\\users\\gper\\appdata\\local\\packages\\pythonsoftwarefoundation.python.3.11_qbz5n2kfra8p0\\localcache\\local-packages\\python311\\site-packages (from hana-ml) (2.2.3)\n",
      "Requirement already satisfied: pandas>=0.24.2 in c:\\users\\gper\\appdata\\local\\packages\\pythonsoftwarefoundation.python.3.11_qbz5n2kfra8p0\\localcache\\local-packages\\python311\\site-packages (from hana-ml) (2.2.3)\n",
      "Requirement already satisfied: jinja2>=3.0.0 in c:\\users\\gper\\appdata\\local\\packages\\pythonsoftwarefoundation.python.3.11_qbz5n2kfra8p0\\localcache\\local-packages\\python311\\site-packages (from hana-ml) (3.1.5)\n",
      "Requirement already satisfied: ai-api-client-sdk==2.4.6 in c:\\users\\gper\\appdata\\local\\packages\\pythonsoftwarefoundation.python.3.11_qbz5n2kfra8p0\\localcache\\local-packages\\python311\\site-packages (from ai-core-sdk>=2.5.7->generative-ai-hub-sdk) (2.4.6)\n",
      "Requirement already satisfied: aenum~=3.1 in c:\\users\\gper\\appdata\\local\\packages\\pythonsoftwarefoundation.python.3.11_qbz5n2kfra8p0\\localcache\\local-packages\\python311\\site-packages (from ai-api-client-sdk==2.4.6->ai-core-sdk>=2.5.7->generative-ai-hub-sdk) (3.1.15)\n",
      "Requirement already satisfied: pyhumps~=3.0 in c:\\users\\gper\\appdata\\local\\packages\\pythonsoftwarefoundation.python.3.11_qbz5n2kfra8p0\\localcache\\local-packages\\python311\\site-packages (from ai-api-client-sdk==2.4.6->ai-core-sdk>=2.5.7->generative-ai-hub-sdk) (3.8.0)\n",
      "Requirement already satisfied: colorama in c:\\users\\gper\\appdata\\local\\packages\\pythonsoftwarefoundation.python.3.11_qbz5n2kfra8p0\\localcache\\local-packages\\python311\\site-packages (from click>=8.1.7->generative-ai-hub-sdk) (0.4.6)\n",
      "Requirement already satisfied: anyio in c:\\users\\gper\\appdata\\local\\packages\\pythonsoftwarefoundation.python.3.11_qbz5n2kfra8p0\\localcache\\local-packages\\python311\\site-packages (from httpx>=0.27.0->generative-ai-hub-sdk) (4.8.0)\n",
      "Requirement already satisfied: certifi in c:\\users\\gper\\appdata\\local\\packages\\pythonsoftwarefoundation.python.3.11_qbz5n2kfra8p0\\localcache\\local-packages\\python311\\site-packages (from httpx>=0.27.0->generative-ai-hub-sdk) (2025.1.31)\n",
      "Requirement already satisfied: httpcore==1.* in c:\\users\\gper\\appdata\\local\\packages\\pythonsoftwarefoundation.python.3.11_qbz5n2kfra8p0\\localcache\\local-packages\\python311\\site-packages (from httpx>=0.27.0->generative-ai-hub-sdk) (1.0.7)\n",
      "Requirement already satisfied: idna in c:\\users\\gper\\appdata\\local\\packages\\pythonsoftwarefoundation.python.3.11_qbz5n2kfra8p0\\localcache\\local-packages\\python311\\site-packages (from httpx>=0.27.0->generative-ai-hub-sdk) (3.10)\n",
      "Requirement already satisfied: h11<0.15,>=0.13 in c:\\users\\gper\\appdata\\local\\packages\\pythonsoftwarefoundation.python.3.11_qbz5n2kfra8p0\\localcache\\local-packages\\python311\\site-packages (from httpcore==1.*->httpx>=0.27.0->generative-ai-hub-sdk) (0.14.0)\n",
      "Requirement already satisfied: MarkupSafe>=2.0 in c:\\users\\gper\\appdata\\local\\packages\\pythonsoftwarefoundation.python.3.11_qbz5n2kfra8p0\\localcache\\local-packages\\python311\\site-packages (from jinja2>=3.0.0->hana-ml) (3.0.2)\n",
      "Requirement already satisfied: distro<2,>=1.7.0 in c:\\users\\gper\\appdata\\local\\packages\\pythonsoftwarefoundation.python.3.11_qbz5n2kfra8p0\\localcache\\local-packages\\python311\\site-packages (from openai>=1.56.0->generative-ai-hub-sdk) (1.9.0)\n",
      "Requirement already satisfied: jiter<1,>=0.4.0 in c:\\users\\gper\\appdata\\local\\packages\\pythonsoftwarefoundation.python.3.11_qbz5n2kfra8p0\\localcache\\local-packages\\python311\\site-packages (from openai>=1.56.0->generative-ai-hub-sdk) (0.8.2)\n",
      "Requirement already satisfied: sniffio in c:\\users\\gper\\appdata\\local\\packages\\pythonsoftwarefoundation.python.3.11_qbz5n2kfra8p0\\localcache\\local-packages\\python311\\site-packages (from openai>=1.56.0->generative-ai-hub-sdk) (1.3.1)\n",
      "Requirement already satisfied: python-dateutil>=2.8.2 in c:\\users\\gper\\appdata\\local\\packages\\pythonsoftwarefoundation.python.3.11_qbz5n2kfra8p0\\localcache\\local-packages\\python311\\site-packages (from pandas>=0.24.2->hana-ml) (2.9.0.post0)\n",
      "Requirement already satisfied: pytz>=2020.1 in c:\\users\\gper\\appdata\\local\\packages\\pythonsoftwarefoundation.python.3.11_qbz5n2kfra8p0\\localcache\\local-packages\\python311\\site-packages (from pandas>=0.24.2->hana-ml) (2025.1)\n",
      "Requirement already satisfied: tzdata>=2022.7 in c:\\users\\gper\\appdata\\local\\packages\\pythonsoftwarefoundation.python.3.11_qbz5n2kfra8p0\\localcache\\local-packages\\python311\\site-packages (from pandas>=0.24.2->hana-ml) (2025.1)\n",
      "Requirement already satisfied: narwhals>=1.15.1 in c:\\users\\gper\\appdata\\local\\packages\\pythonsoftwarefoundation.python.3.11_qbz5n2kfra8p0\\localcache\\local-packages\\python311\\site-packages (from plotly>=4.14.3->hana-ml) (1.29.0)\n",
      "Requirement already satisfied: charset-normalizer<4,>=2 in c:\\users\\gper\\appdata\\local\\packages\\pythonsoftwarefoundation.python.3.11_qbz5n2kfra8p0\\localcache\\local-packages\\python311\\site-packages (from requests->panda) (3.4.1)\n",
      "Requirement already satisfied: urllib3<3,>=1.21.1 in c:\\users\\gper\\appdata\\local\\packages\\pythonsoftwarefoundation.python.3.11_qbz5n2kfra8p0\\localcache\\local-packages\\python311\\site-packages (from requests->panda) (2.3.0)\n",
      "Requirement already satisfied: wrapt<2,>=1.10 in c:\\users\\gper\\appdata\\local\\packages\\pythonsoftwarefoundation.python.3.11_qbz5n2kfra8p0\\localcache\\local-packages\\python311\\site-packages (from Deprecated->hana-ml) (1.17.2)\n",
      "Requirement already satisfied: wcwidth in c:\\users\\gper\\appdata\\local\\packages\\pythonsoftwarefoundation.python.3.11_qbz5n2kfra8p0\\localcache\\local-packages\\python311\\site-packages (from prettytable->hana-ml) (0.2.13)\n",
      "Requirement already satisfied: pyparsing>=2.0.1 in c:\\users\\gper\\appdata\\local\\packages\\pythonsoftwarefoundation.python.3.11_qbz5n2kfra8p0\\localcache\\local-packages\\python311\\site-packages (from pydotplus->hana-ml) (3.2.1)\n",
      "Requirement already satisfied: six>=1.5 in c:\\users\\gper\\appdata\\local\\packages\\pythonsoftwarefoundation.python.3.11_qbz5n2kfra8p0\\localcache\\local-packages\\python311\\site-packages (from python-dateutil>=2.8.2->pandas>=0.24.2->hana-ml) (1.17.0)\n",
      "Note: you may need to restart the kernel to use updated packages.\n"
     ]
    },
    {
     "name": "stderr",
     "output_type": "stream",
     "text": [
      "\n",
      "[notice] A new release of pip is available: 24.0 -> 25.0.1\n",
      "[notice] To update, run: C:\\Users\\GPER\\AppData\\Local\\Microsoft\\WindowsApps\\PythonSoftwareFoundation.Python.3.11_qbz5n2kfra8p0\\python.exe -m pip install --upgrade pip\n"
     ]
    }
   ],
   "source": [
    "%pip install generative-ai-hub-sdk panda hana-ml\n",
    "import os"
   ]
  },
  {
   "cell_type": "markdown",
   "id": "0b3715eb",
   "metadata": {
    "id": "0b3715eb"
   },
   "source": [
    "<b>Loading vector data from a csv file</b><br/>\n",
    "Download the following csv file and save it in your system. Download File<br/>\n",
    "Disclaimer : To execute the tutorial if you are uploading sample CSV FILE, Use\n",
    "steps 1-5 to upload the file Don’t use Hana Data base Explorer to directly\n",
    "upload the file as it may change the format in HANA.<br/><br/>\n",
    "Execute the following python code in the same folder. This will load the data and store it in a data-frame."
   ]
  },
  {
   "cell_type": "code",
   "execution_count": 1,
   "id": "90f1e9af",
   "metadata": {
    "colab": {
     "base_uri": "https://localhost:8080/",
     "height": 195
    },
    "id": "90f1e9af",
    "outputId": "8f668a52-b88d-4440-ef19-6600f87bf145"
   },
   "outputs": [
    {
     "data": {
      "text/html": [
       "<div>\n",
       "<style scoped>\n",
       "    .dataframe tbody tr th:only-of-type {\n",
       "        vertical-align: middle;\n",
       "    }\n",
       "\n",
       "    .dataframe tbody tr th {\n",
       "        vertical-align: top;\n",
       "    }\n",
       "\n",
       "    .dataframe thead th {\n",
       "        text-align: right;\n",
       "    }\n",
       "</style>\n",
       "<table border=\"1\" class=\"dataframe\">\n",
       "  <thead>\n",
       "    <tr style=\"text-align: right;\">\n",
       "      <th></th>\n",
       "      <th>ARTICLENR</th>\n",
       "      <th>NAME</th>\n",
       "      <th>VECTOR_STR</th>\n",
       "    </tr>\n",
       "  </thead>\n",
       "  <tbody>\n",
       "    <tr>\n",
       "      <th>1</th>\n",
       "      <td>8011437</td>\n",
       "      <td>SAP Signavio Process Manager</td>\n",
       "      <td>Nutzen Sie die Macht der Prozesse mit einer in...</td>\n",
       "    </tr>\n",
       "    <tr>\n",
       "      <th>2</th>\n",
       "      <td>8011439</td>\n",
       "      <td>SAP Signavio Process Governance</td>\n",
       "      <td>Durch die gemeinsame Dokumentation von Prozess...</td>\n",
       "    </tr>\n",
       "    <tr>\n",
       "      <th>3</th>\n",
       "      <td>8011440</td>\n",
       "      <td>SAP Signavio Process Collaboration Hub</td>\n",
       "      <td>Zusammenarbeit im Prozess und Transparenz\\nIhr...</td>\n",
       "    </tr>\n",
       "  </tbody>\n",
       "</table>\n",
       "</div>"
      ],
      "text/plain": [
       "  ARTICLENR                                    NAME  \\\n",
       "1   8011437            SAP Signavio Process Manager   \n",
       "2   8011439         SAP Signavio Process Governance   \n",
       "3   8011440  SAP Signavio Process Collaboration Hub   \n",
       "\n",
       "                                          VECTOR_STR  \n",
       "1  Nutzen Sie die Macht der Prozesse mit einer in...  \n",
       "2  Durch die gemeinsame Dokumentation von Prozess...  \n",
       "3  Zusammenarbeit im Prozess und Transparenz\\nIhr...  "
      ]
     },
     "execution_count": 1,
     "metadata": {},
     "output_type": "execute_result"
    }
   ],
   "source": [
    "import pandas as pd\n",
    "df = pd.read_excel('AGILITA_Products.xlsx', dtype=str, header=1)\n",
    "df[\"ARTICLENR\"] = df['Material']\n",
    "df[\"NAME\"] = df['Price List Item']\n",
    "df[\"VECTOR_STR\"] = df['Unnamed: 2']\n",
    "df = df[[\"ARTICLENR\", \"NAME\", \"VECTOR_STR\"]]\n",
    "df = df.dropna(subset=[\"ARTICLENR\"])\n",
    "\n",
    "df.head(3)"
   ]
  },
  {
   "cell_type": "markdown",
   "id": "cba026e9",
   "metadata": {
    "id": "cba026e9"
   },
   "source": [
    "<b>Connection to the HANA Vector store</b><br/>\n",
    "Execute the following python code to create a connection to the HANA Vector storage."
   ]
  },
  {
   "cell_type": "code",
   "execution_count": 2,
   "id": "1a4cc0c7",
   "metadata": {
    "colab": {
     "base_uri": "https://localhost:8080/"
    },
    "id": "1a4cc0c7",
    "outputId": "dc0fa6d1-7f2a-44c3-b604-935d3bda3da5"
   },
   "outputs": [
    {
     "name": "stdout",
     "output_type": "stream",
     "text": [
      "4.00.000.00.1727771918 (fa/CE2024.28)\n",
      "381993CF47F34B458C0588F6AF77BB6B_BYSRFQOXOP7AF5447PYVCPLYO_RT\n"
     ]
    }
   ],
   "source": [
    "import os\n",
    "from hana_ml import ConnectionContext\n",
    "# cc = ConnectionContext(userkey='VDB_BETA', encrypt=True)\n",
    "cc = ConnectionContext(\n",
    "    address=os.environ.get(\"DB_ADDRESS\"),\n",
    "    port=os.environ.get(\"DB_PORT\"),\n",
    "    user=os.environ.get(\"DB_USER\"),\n",
    "    password=os.environ.get(\"DB_PASSWORD\"), \n",
    "    encrypt=True\n",
    ") \n",
    "\n",
    "print(cc.hana_version())\n",
    "print(cc.get_current_schema())\n",
    "\n"
   ]
  },
  {
   "cell_type": "markdown",
   "id": "400b9459",
   "metadata": {
    "id": "400b9459"
   },
   "source": [
    "<b>Uploading the data to the database</b><br/>\n",
    "TExecute the following code to upload the data to the database."
   ]
  },
  {
   "cell_type": "code",
   "execution_count": 3,
   "id": "7eb1b4f1",
   "metadata": {
    "colab": {
     "base_uri": "https://localhost:8080/"
    },
    "id": "7eb1b4f1",
    "outputId": "3a95d566-d3c4-420a-f866-ceb1fa10abbd"
   },
   "outputs": [
    {
     "name": "stderr",
     "output_type": "stream",
     "text": [
      "100%|██████████| 1/1 [00:00<00:00, 23.89it/s]\n"
     ]
    }
   ],
   "source": [
    "from hana_ml.dataframe import create_dataframe_from_pandas\n",
    "v_hdf = create_dataframe_from_pandas(\n",
    "    connection_context=cc,\n",
    "    pandas_df=df,\n",
    "    table_name=\"381993CF47F34B458C0588F6AF77BB6B.CH_AGILITA_AISALES_EXTERNAL_MATERIALVECTORS\",\n",
    "    allow_bigint=True,\n",
    "    append=True\n",
    "    )"
   ]
  },
  {
   "cell_type": "markdown",
   "id": "55d55703",
   "metadata": {
    "id": "55d55703"
   },
   "source": [
    "<b>Get Embeddings</b><br/>\n",
    "Define the function get_embedding() to generate embeddings for our input texts. Execute the following python code."
   ]
  },
  {
   "cell_type": "code",
   "execution_count": 5,
   "id": "otKAAMfkx3mH",
   "metadata": {
    "colab": {
     "base_uri": "https://localhost:8080/"
    },
    "id": "otKAAMfkx3mH",
    "outputId": "0ede7f98-516f-4c9f-a067-cb39f590fb8b"
   },
   "outputs": [],
   "source": [
    "# pip install python-dotenv"
   ]
  },
  {
   "cell_type": "code",
   "execution_count": 8,
   "id": "cda14996",
   "metadata": {
    "collapsed": false
   },
   "outputs": [
    {
     "name": "stdout",
     "output_type": "stream",
     "text": [
      "{'AICORE_AUTH_URL': 'https://agilitaesres.authentication.eu10.hana.ondemand.com/oauth/token', 'AICORE_CLIENT_ID': 'sb-221be585-00af-423b-b21c-dbb68b44522a!b509560|aicore!b540', 'AICORE_CLIENT_SECRET': 'addf53da-d6a0-4f7b-afeb-979fa4a47243$mZGC-aQA0FKvK8IhmnDR38kJpt2W9N-J1wHWxyMbjbM=', 'AICORE_BASE_URL': 'https://api.ai.prod.eu-central-1.aws.ml.hana.ondemand.com', 'AICORE_RESOURCE_GROUP': 'default'}\n"
     ]
    }
   ],
   "source": [
    "import os\n",
    "# Create a dictionary with the environment variables you want to set.\n",
    "env_vars = {\n",
    "    'AICORE_AUTH_URL' : os.environ.get(\"AICORE_AUTH_URL\"),\n",
    "    'AICORE_CLIENT_ID' : os.environ.get(\"AICORE_CLIENT_ID\"),\n",
    "    'AICORE_CLIENT_SECRET' : os.environ.get(\"AICORE_CLIENT_SECRET\"),\n",
    "    'AICORE_BASE_URL' : os.environ.get(\"AICORE_BASE_URL\"),\n",
    "    'AICORE_RESOURCE_GROUP' : 'default'\n",
    "}\n",
    "print(env_vars)\n",
    "\n",
    "# Set the environment variables using `os.environ`.\n",
    "for key, value in env_vars.items():\n",
    "    os.environ[key] = value"
   ]
  },
  {
   "cell_type": "code",
   "execution_count": 9,
   "id": "b479556b",
   "metadata": {
    "id": "b479556b"
   },
   "outputs": [],
   "source": [
    "# Get embeddings\n",
    "from gen_ai_hub.proxy.native.openai import embeddings\n",
    "\n",
    "def get_embedding(input, model=\"text-embedding-3-small\") -> str:\n",
    "    response = embeddings.create(\n",
    "        model_name=model,\n",
    "        input=input\n",
    "    )\n",
    "    return response.data[0].embedding"
   ]
  },
  {
   "cell_type": "code",
   "execution_count": 10,
   "id": "98000406",
   "metadata": {
    "collapsed": false
   },
   "outputs": [
    {
     "name": "stdout",
     "output_type": "stream",
     "text": [
      "Embeddings added successfully:\n",
      "[-0.029244810342788696, 0.00618803221732378, 0.0529797300696373, 0.011104551143944263, -0.004256921354681253, -0.014304527081549168, -0.009165492840111256, 0.03428848087787628, 0.02084222622215748, -0.00015720078954473138]\n"
     ]
    }
   ],
   "source": [
    "embeddings_list = []\n",
    "\n",
    "for index, row in df.iterrows():\n",
    "    vector_str = row['VECTOR_STR']  # The text you want to get embedding for\n",
    "    embedding = get_embedding(vector_str)  # Fetch embedding for the current VECTOR_STR\n",
    "    embeddings_list.append(embedding)  # Store the embedding in the list\n",
    "\n",
    "# Step 2: Add the embeddings as a new column to the DataFrame\n",
    "df['Embedding'] = embeddings_list\n",
    "\n",
    "print(\"Embeddings added successfully:\")\n",
    "print(embedding[:10])"
   ]
  },
  {
   "cell_type": "markdown",
   "id": "f947c6f4",
   "metadata": {
    "id": "f947c6f4"
   },
   "source": [
    "<b>Creating vectors from strings</b><br/>\n",
    "The vectors for the strings can be created using the TO_REAL_VECTOR() function. <br/>\n",
    "Execute the following code to update the VECTOR column with the vectors."
   ]
  },
  {
   "cell_type": "code",
   "execution_count": 9,
   "id": "625a5bb0",
   "metadata": {
    "id": "625a5bb0"
   },
   "outputs": [],
   "source": [
    "import json\n",
    "\n",
    "# database connection\n",
    "conn = cc.connection\n",
    "cursor = conn.cursor()\n",
    "\n",
    "# Process each row \n",
    "for index, row in df.iterrows():\n",
    "    vector_str = row['VECTOR_STR']\n",
    "    embedding = get_embedding(vector_str)  # Generate embedding \n",
    "\n",
    "    if not embedding:\n",
    "        print(f\"No embedding generated for {row['ARTICLENR']}\")\n",
    "        continue  # Skip this row\n",
    "\n",
    "    # Convert embedding list to json string for correct format\n",
    "    embedding_str = json.dumps(embedding)\n",
    "\n",
    "    # Check if ARTICLENR exists\n",
    "    cursor.execute(\"\"\"\n",
    "        SELECT COUNT(*) FROM 381993CF47F34B458C0588F6AF77BB6B.CH_AGILITA_AISALES_EXTERNAL_MATERIALVECTORS\n",
    "        WHERE ARTICLENR = :articlenr\n",
    "    \"\"\", {'articlenr': row[\"ARTICLENR\"]})\n",
    "    \n",
    "    result = cursor.fetchone()\n",
    "    \n",
    "    if result[0] > 0:  # If row exists, UPDATE\n",
    "        sql_command = \"\"\"\n",
    "            UPDATE 381993CF47F34B458C0588F6AF77BB6B.CH_AGILITA_AISALES_EXTERNAL_MATERIALVECTORS\n",
    "            SET NAME = :name, VECTOR = TO_REAL_VECTOR(CAST(:vector AS NVARCHAR))\n",
    "            WHERE ARTICLENR = :articlenr\n",
    "        \"\"\"\n",
    "        cursor.execute(sql_command, {'name': row[\"NAME\"], 'vector': embedding_str, 'articlenr': row[\"ARTICLENR\"]})\n",
    "    \n",
    "    else:  # If row does not exist, INSERT\n",
    "        sql_command = \"\"\"\n",
    "            INSERT INTO 381993CF47F34B458C0588F6AF77BB6B.CH_AGILITA_AISALES_EXTERNAL_MATERIALVECTORS\n",
    "            (ARTICLENR, NAME, VECTOR) \n",
    "            VALUES (:articlenr, :name, TO_REAL_VECTOR(CAST(:vector AS NVARCHAR)))\n",
    "        \"\"\"\n",
    "        cursor.execute(sql_command, {'articlenr': row[\"ARTICLENR\"], 'name': row[\"NAME\"], 'vector': embedding_str})\n",
    "\n",
    "# Commit changes and close the connection\n",
    "conn.commit()\n",
    "cursor.close()\n",
    "conn.close()"
   ]
  },
  {
   "cell_type": "markdown",
   "id": "8107576a",
   "metadata": {
    "id": "8107576a"
   },
   "source": [
    "<b>Running vector search</b><br/>\n",
    "Define a function run_vector_search(). This function will search the vector database and finds the rows which are most similar to a given query.<br/>\n",
    "Execute the following python code"
   ]
  },
  {
   "cell_type": "code",
   "execution_count": 11,
   "id": "bfe8c61e",
   "metadata": {
    "id": "bfe8c61e"
   },
   "outputs": [],
   "source": [
    "def run_vector_search(query: str, metric=\"COSINE_SIMILARITY\", k=4):\n",
    "\n",
    "    # Determine the sorting order based on the metric\n",
    "    if metric == 'L2DISTANCE':\n",
    "        sort = 'ASC'  # Lower distance is better for L2 (Euclidean)\n",
    "    else:\n",
    "        sort = 'DESC'  # Higher similarity is better for COSINE_SIMILARITY\n",
    "\n",
    "    # Generate the embedding for the query\n",
    "    query_vector = get_embedding(query)\n",
    "\n",
    "    # Convert the embedding to a comma-separated string and wrap with square brackets\n",
    "    query_vector_str = f\"[{','.join(map(str, query_vector))}]\"\n",
    "\n",
    "    # Construct the SQL query using string formatting\n",
    "    sql = f'''\n",
    "    SELECT TOP {k} \"ARTICLENR\", \"NAME\", \"VECTOR\", \n",
    "           COSINE_SIMILARITY(\n",
    "               \"VECTOR\",  -- Use the REAL_VECTOR column directly\n",
    "               TO_REAL_VECTOR('{query_vector_str}') \n",
    "           ) AS similarity\n",
    "    FROM \"381993CF47F34B458C0588F6AF77BB6B\".\"CH_AGILITA_AISALES_EXTERNAL_MATERIALVECTORS\"\n",
    "    ORDER BY similarity {sort}\n",
    "    '''\n",
    "\n",
    "    try:\n",
    "        # Execute the query using the database connection\n",
    "        hdf = cc.sql(sql)\n",
    "\n",
    "        # Collect the results into a pandas DataFrame\n",
    "        df_context = hdf.head(k).collect()\n",
    "\n",
    "        # Return the results\n",
    "        return df_context\n",
    "\n",
    "    except Exception as e:\n",
    "        print(f\"An error occurred: {e}\")\n",
    "        print(f\"SQL Query: {sql}\")\n",
    "        return None\n"
   ]
  },
  {
   "cell_type": "code",
   "execution_count": 12,
   "id": "d0076a77",
   "metadata": {
    "colab": {
     "base_uri": "https://localhost:8080/",
     "height": 339
    },
    "id": "d0076a77",
    "outputId": "186aaa1e-bb43-46d5-b2d7-4a0f559b3ed2"
   },
   "outputs": [
    {
     "name": "stdout",
     "output_type": "stream",
     "text": [
      "  ARTICLENR                                      NAME  \\\n",
      "0   8014823         SAP Signavio Process Intelligence   \n",
      "1   8018011  SAP Field Service Management, SME option   \n",
      "2   8015529              SAP Field Service Management   \n",
      "3         7                             AGIL AI.Sales   \n",
      "\n",
      "                                              VECTOR  SIMILARITY  \n",
      "0  [-0.030233390629291534, 0.02739836275577545, 0...    0.225808  \n",
      "1  [-0.006160595919936895, 0.02896769717335701, 0...    0.197500  \n",
      "2  [-0.006163731683045626, 0.02895912528038025, 0...    0.197488  \n",
      "3  [-0.026103109121322632, 0.013193110935389996, ...    0.189498  \n"
     ]
    }
   ],
   "source": [
    "query = \"How can I run a shortest path algorithm?\"\n",
    "df_context = run_vector_search(query=query, metric=\"COSINE_SIMILARITY\", k=4)\n",
    "print(df_context)\n"
   ]
  },
  {
   "cell_type": "code",
   "execution_count": 13,
   "id": "1eed46c5",
   "metadata": {
    "collapsed": false
   },
   "outputs": [],
   "source": [
    "from gen_ai_hub.proxy.native.openai import chat\n",
    "\n",
    "# Define your system content for the LLM\n",
    "sys_content = '''Your task is to answer the question using the provided context wrapped in triple quotes.\n",
    "If the provided context does not contain the information needed to answer this question then come up with your own answer.'''\n",
    "\n",
    "def ask_llm(query: str, retrieval_augmented_generation: bool, metric='COSINE_SIMILARITY', k=4) -> str:\n",
    "    context = ''\n",
    "    \n",
    "    if retrieval_augmented_generation:\n",
    "        # Perform vector search to retrieve context\n",
    "        df_context = run_vector_search(query, metric, k)\n",
    "        \n",
    "        # Use the 'NAME' column for context\n",
    "        if 'NAME' in df_context.columns:\n",
    "            context = ' '.join(df_context['NAME'].astype('string'))\n",
    "        else:\n",
    "            # In case 'NAME' does not exist, fallback to 'ARTICLENR'\n",
    "            context = ' '.join(df_context['ARTICLENR'].astype('string'))\n",
    "    \n",
    "    user_content = '\"\"\"' + context + '\"\"\"' + ' Question: ' + query\n",
    "    \n",
    "    # Prepare the messages list with system and user content\n",
    "    messages = [\n",
    "        {\"role\": \"system\", \"content\": sys_content},\n",
    "        {\"role\": \"user\", \"content\": user_content}\n",
    "    ]\n",
    "    \n",
    "    # Make the request to the LLM (using GPT-3.5 turbo model here)\n",
    "    kwargs = dict(model_name='gpt-35-turbo', messages=messages)\n",
    "    \n",
    "    try:\n",
    "        # Request to the OpenAI API\n",
    "        response = chat.completions.create(**kwargs)\n",
    "\n",
    "        # Check if the response contains 'choices' and is a valid list\n",
    "        if hasattr(response, 'choices') and len(response.choices) > 0:\n",
    "            # Directly access the 'content' from the first choice\n",
    "            answer = response.choices[0].message.content if hasattr(response.choices[0], 'message') else \"No message found in choices.\"\n",
    "        else:\n",
    "            answer = \"No valid response found in choices.\"\n",
    "    except Exception as e:\n",
    "        # In case of an error, print the error message\n",
    "        print(\"Error during API call:\", str(e))\n",
    "        answer = \"An error occurred while querying the LLM.\"\n",
    "    \n",
    "    return answer"
   ]
  },
  {
   "cell_type": "code",
   "execution_count": 14,
   "id": "384f578e",
   "metadata": {
    "collapsed": false
   },
   "outputs": [
    {
     "name": "stdout",
     "output_type": "stream",
     "text": [
      "Answer: \"SAP\" stands for Systems, Applications, and Products in Data Processing. It is a multinational software corporation that develops enterprise software to manage business operations and customer relations. SAP offers a range of products, including the SAP Integration Suite, which provides capabilities for integrating various systems and applications within an organization.\n"
     ]
    }
   ],
   "source": [
    "query = \"What IS SAP?\"\n",
    "response = ask_llm(query=query, retrieval_augmented_generation=True, metric=\"COSINE_SIMILARITY\", k=4)\n",
    "print(\"Answer:\", response)"
   ]
  }
 ],
 "metadata": {
  "colab": {
   "provenance": []
  },
  "kernelspec": {
   "display_name": "Python 3",
   "language": "python",
   "name": "python3"
  },
  "language_info": {
   "codemirror_mode": {
    "name": "ipython",
    "version": 3
   },
   "file_extension": ".py",
   "mimetype": "text/x-python",
   "name": "python",
   "nbconvert_exporter": "python",
   "pygments_lexer": "ipython3",
   "version": "3.11.9"
  }
 },
 "nbformat": 4,
 "nbformat_minor": 5
}
